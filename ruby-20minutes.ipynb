{
 "cells": [
  {
   "cell_type": "markdown",
   "id": "e96b8cc3-9d98-47e6-bfc1-8bfa620b4058",
   "metadata": {},
   "source": [
    "# Introduction à Ruby en 20 minutes\n",
    "\n",
    "Nous allons apprendre les bases du langage Ruby dans un court tutoriel utilisant une approche simple avec l'interpréteur REPL `pry` que vous avez déjà installé via une Gem sur votre ordinateur.\n",
    "\n",
    "Pour lancer la commande\n",
    "```bash\n",
    "$ pry\n",
    "[1] pry(main)> \n",
    "```"
   ]
  },
  {
   "cell_type": "code",
   "execution_count": 1,
   "id": "6910aab5-3f6e-42bc-8b9d-7fb9bd3b1739",
   "metadata": {},
   "outputs": [
    {
     "name": "stdout",
     "output_type": "stream",
     "text": [
      "Hello World\n"
     ]
    }
   ],
   "source": [
    "puts \"Hello World\""
   ]
  },
  {
   "cell_type": "markdown",
   "id": "7c83c45b-8481-464f-ad75-03b6b83c839e",
   "metadata": {},
   "source": [
    "`puts` est la commande de base pour écrire en Ruby comme une fonction d'affichage. Nous allons maintenant faire un peu de calcul.\n",
    "\n",
    "## Premiers pas en Calcul"
   ]
  },
  {
   "cell_type": "code",
   "execution_count": 4,
   "id": "4eabcb2d-f27c-4aa6-87b3-23e600652294",
   "metadata": {},
   "outputs": [
    {
     "data": {
      "text/plain": [
       "7"
      ]
     },
     "execution_count": 4,
     "metadata": {},
     "output_type": "execute_result"
    }
   ],
   "source": [
    "3 + 4"
   ]
  },
  {
   "cell_type": "markdown",
   "id": "e3dbfb1b-b536-49c0-855d-00a1a54d3239",
   "metadata": {},
   "source": [
    "Nous pouvons utiliser notre interpréteur comme une vulgaire calculatrice pour faire des calculs et manipulations basics comme l'addition (+), la multiplication (*), la soustraction (-) et la division (/)."
   ]
  },
  {
   "cell_type": "code",
   "execution_count": 5,
   "id": "8f24717f-d902-4a3c-a64e-d5aea9f45758",
   "metadata": {},
   "outputs": [
    {
     "data": {
      "text/plain": [
       "24"
      ]
     },
     "execution_count": 5,
     "metadata": {},
     "output_type": "execute_result"
    }
   ],
   "source": [
    "2 * 3 * 4"
   ]
  },
  {
   "cell_type": "markdown",
   "id": "3b308eb8-92df-4175-9be1-1670f686e00c",
   "metadata": {},
   "source": [
    "Maintenant, essayons des fonctions plus avancées comme 4 carré de 4:"
   ]
  },
  {
   "cell_type": "code",
   "execution_count": 6,
   "id": "355f3e84-c441-4697-b46c-6f95586da857",
   "metadata": {},
   "outputs": [
    {
     "data": {
      "text/plain": [
       "256"
      ]
     },
     "execution_count": 6,
     "metadata": {},
     "output_type": "execute_result"
    }
   ],
   "source": [
    "4 ** 4"
   ]
  },
  {
   "cell_type": "markdown",
   "id": "1c84463e-2add-4748-8d85-2be541f245a3",
   "metadata": {},
   "source": [
    "La syntaxe ruby utilise `**` pour élever à la puissance un nombre, pour faire dans l'autre sens et utiliser la racine carrée:"
   ]
  },
  {
   "cell_type": "code",
   "execution_count": 7,
   "id": "ce7da368-f1be-4cd2-bb6f-a43091f535ea",
   "metadata": {},
   "outputs": [
    {
     "data": {
      "text/plain": [
       "4.0"
      ]
     },
     "execution_count": 7,
     "metadata": {},
     "output_type": "execute_result"
    }
   ],
   "source": [
    "Math.sqrt(16)"
   ]
  },
  {
   "cell_type": "markdown",
   "id": "ea58c085-6100-4a63-b921-4da82f07974a",
   "metadata": {},
   "source": [
    "Alors venons-en sqrt est une concaténation de `square root` en anglais. Mais qu'es-ce que `Math`?\n",
    "\n",
    "## Les modules, ou on regroupe par thématiques du code\n",
    "\n",
    "`Math` est ce que l'on appel en Ruby un module qui est fourni d'office dans la bibliothèque standard et qui comme son nom l'indique c'est des mathématiques. Les modules invoquent des méthodes (ce que l'on appel également des fonctions). Il y a d'autres méthodes tels que `sin`, `cos` pour la trigonométrie. Pour invoquer une méthode du module `Math` on utilise une notation pointée tel que `Math.sqrt`. Vous le notez dans `Pry` le résultat est `4.0` car ce n'est pas un entier, mais un nombre à virgule flottante."
   ]
  },
  {
   "cell_type": "markdown",
   "id": "ad82e4bc-49bd-4da1-8968-2e3428f34be3",
   "metadata": {},
   "source": [
    "## Nos premières définitions de méthode\n",
    "\n",
    "L'intérêt de créer des méthodes est de pouvoir ré-utiliser des bouts de code et ne pas répéter inutilement des lignes. Voyons comment faire avec notre simple \"Hello World\""
   ]
  },
  {
   "cell_type": "code",
   "execution_count": null,
   "id": "fcea190c-acf8-4baf-ae54-034bf917c683",
   "metadata": {},
   "outputs": [],
   "source": [
    "def h\n",
    "    puts \"Hello Word\"\n",
    "end"
   ]
  },
  {
   "cell_type": "markdown",
   "id": "081fb4cd-8a53-4c0a-ae8c-5dc6e7aa6f42",
   "metadata": {},
   "source": [
    "Le mot clé `def` permet de commencer la définition d'une méthode et doit ce finir par `end`"
   ]
  },
  {
   "cell_type": "code",
   "execution_count": null,
   "id": "39b5c984-7a07-4ffa-b088-8bb2656bbd95",
   "metadata": {},
   "outputs": [],
   "source": []
  }
 ],
 "metadata": {
  "kernelspec": {
   "display_name": "Ruby 3.0.6",
   "language": "ruby",
   "name": "ruby"
  },
  "language_info": {
   "file_extension": ".rb",
   "mimetype": "application/x-ruby",
   "name": "ruby",
   "version": "3.0.6"
  }
 },
 "nbformat": 4,
 "nbformat_minor": 5
}
