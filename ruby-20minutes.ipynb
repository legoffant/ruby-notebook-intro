{
 "cells": [
  {
   "cell_type": "markdown",
   "id": "e96b8cc3-9d98-47e6-bfc1-8bfa620b4058",
   "metadata": {},
   "source": [
    "# Introduction à Ruby en 20 minutes\n",
    "\n",
    "Nous allons apprendre les bases du langage Ruby dans un court tutoriel utilisant une approche simple avec l'interpréteur REPL `pry` que vous avez déjà installé via une Gem sur votre ordinateur.\n",
    "\n",
    "Pour lancer la commande\n",
    "```bash\n",
    "$ pry\n",
    "[1] pry(main)> \n",
    "```"
   ]
  },
  {
   "cell_type": "code",
   "execution_count": 1,
   "id": "6910aab5-3f6e-42bc-8b9d-7fb9bd3b1739",
   "metadata": {},
   "outputs": [
    {
     "name": "stdout",
     "output_type": "stream",
     "text": [
      "Hello World\n"
     ]
    }
   ],
   "source": [
    "puts \"Hello World\""
   ]
  },
  {
   "cell_type": "markdown",
   "id": "7c83c45b-8481-464f-ad75-03b6b83c839e",
   "metadata": {},
   "source": [
    "`puts` est la commande de base pour écrire en Ruby comme une fonction d'affichage. Nous allons maintenant faire un peu de calcul.\n",
    "\n",
    "## Premiers pas en Calcul"
   ]
  },
  {
   "cell_type": "code",
   "execution_count": 4,
   "id": "4eabcb2d-f27c-4aa6-87b3-23e600652294",
   "metadata": {},
   "outputs": [
    {
     "data": {
      "text/plain": [
       "7"
      ]
     },
     "execution_count": 4,
     "metadata": {},
     "output_type": "execute_result"
    }
   ],
   "source": [
    "3 + 4"
   ]
  },
  {
   "cell_type": "code",
   "execution_count": null,
   "id": "eb1bba24-f909-4676-9eb6-3b9bce9ef36c",
   "metadata": {},
   "outputs": [],
   "source": []
  }
 ],
 "metadata": {
  "kernelspec": {
   "display_name": "Ruby 3.0.6",
   "language": "ruby",
   "name": "ruby"
  },
  "language_info": {
   "file_extension": ".rb",
   "mimetype": "application/x-ruby",
   "name": "ruby",
   "version": "3.0.6"
  }
 },
 "nbformat": 4,
 "nbformat_minor": 5
}
