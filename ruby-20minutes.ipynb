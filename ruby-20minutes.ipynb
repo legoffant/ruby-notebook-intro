{
 "cells": [
  {
   "cell_type": "markdown",
   "id": "e96b8cc3-9d98-47e6-bfc1-8bfa620b4058",
   "metadata": {},
   "source": [
    "# Introduction à Ruby en 20 minutes\n",
    "\n",
    "Nous allons apprendre les bases du langage Ruby dans un court tutoriel utilisant une approche simple avec l'interpréteur REPL `pry` que vous avez déjà installé via une Gem sur votre ordinateur.\n",
    "\n",
    "Pour lancer la commande\n",
    "```bash\n",
    "$ pry\n",
    "[1] pry(main)> \n",
    "```"
   ]
  },
  {
   "cell_type": "code",
   "execution_count": 1,
   "id": "6910aab5-3f6e-42bc-8b9d-7fb9bd3b1739",
   "metadata": {},
   "outputs": [
    {
     "name": "stdout",
     "output_type": "stream",
     "text": [
      "Hello World\n"
     ]
    }
   ],
   "source": [
    "puts \"Hello World\""
   ]
  },
  {
   "cell_type": "markdown",
   "id": "7c83c45b-8481-464f-ad75-03b6b83c839e",
   "metadata": {},
   "source": [
    "`puts` est la commande de base pour écrire en Ruby comme une fonction d'affichage. Nous allons maintenant faire un peu de calcul.\n",
    "\n",
    "## Premiers pas en Calcul"
   ]
  },
  {
   "cell_type": "code",
   "execution_count": 4,
   "id": "4eabcb2d-f27c-4aa6-87b3-23e600652294",
   "metadata": {},
   "outputs": [
    {
     "data": {
      "text/plain": [
       "7"
      ]
     },
     "execution_count": 4,
     "metadata": {},
     "output_type": "execute_result"
    }
   ],
   "source": [
    "3 + 4"
   ]
  },
  {
   "cell_type": "markdown",
   "id": "e3dbfb1b-b536-49c0-855d-00a1a54d3239",
   "metadata": {},
   "source": [
    "Nous pouvons utiliser notre interpréteur comme une vulgaire calculatrice pour faire des calculs et manipulations basics comme l'addition (+), la multiplication (*), la soustraction (-) et la division (/)."
   ]
  },
  {
   "cell_type": "code",
   "execution_count": 5,
   "id": "8f24717f-d902-4a3c-a64e-d5aea9f45758",
   "metadata": {},
   "outputs": [
    {
     "data": {
      "text/plain": [
       "24"
      ]
     },
     "execution_count": 5,
     "metadata": {},
     "output_type": "execute_result"
    }
   ],
   "source": [
    "2 * 3 * 4"
   ]
  },
  {
   "cell_type": "markdown",
   "id": "3b308eb8-92df-4175-9be1-1670f686e00c",
   "metadata": {},
   "source": [
    "Maintenant, essayons des fonctions plus avancées comme 4 carré de 4:"
   ]
  },
  {
   "cell_type": "code",
   "execution_count": 6,
   "id": "355f3e84-c441-4697-b46c-6f95586da857",
   "metadata": {},
   "outputs": [
    {
     "data": {
      "text/plain": [
       "256"
      ]
     },
     "execution_count": 6,
     "metadata": {},
     "output_type": "execute_result"
    }
   ],
   "source": [
    "4 ** 4"
   ]
  },
  {
   "cell_type": "markdown",
   "id": "1c84463e-2add-4748-8d85-2be541f245a3",
   "metadata": {},
   "source": [
    "La syntaxe ruby utilise `**` pour élever à la puissance un nombre, pour faire dans l'autre sens et utiliser la racine carrée:"
   ]
  },
  {
   "cell_type": "code",
   "execution_count": 7,
   "id": "ce7da368-f1be-4cd2-bb6f-a43091f535ea",
   "metadata": {},
   "outputs": [
    {
     "data": {
      "text/plain": [
       "4.0"
      ]
     },
     "execution_count": 7,
     "metadata": {},
     "output_type": "execute_result"
    }
   ],
   "source": [
    "Math.sqrt(16)"
   ]
  },
  {
   "cell_type": "markdown",
   "id": "ea58c085-6100-4a63-b921-4da82f07974a",
   "metadata": {},
   "source": [
    "Alors venons-en sqrt est une concaténation de `square root` en anglais. Mais qu'es-ce que `Math`?\n",
    "\n",
    "## Les modules, ou on regroupe par thématiques du code\n",
    "\n",
    "`Math` est ce que l'on appel en Ruby un module qui est fourni d'office dans la bibliothèque standard et qui comme son nom l'indique c'est des mathématiques. Les modules invoquent des méthodes (ce que l'on appel également des fonctions). Il y a d'autres méthodes tels que `sin`, `cos` pour la trigonométrie. Pour invoquer une méthode du module `Math` on utilise une notation pointée tel que `Math.sqrt`. Vous le notez dans `Pry` le résultat est `4.0` car ce n'est pas un entier, mais un nombre à virgule flottante."
   ]
  },
  {
   "cell_type": "markdown",
   "id": "ad82e4bc-49bd-4da1-8968-2e3428f34be3",
   "metadata": {},
   "source": [
    "## Nos premières définitions de méthode\n",
    "\n",
    "L'intérêt de créer des méthodes est de pouvoir ré-utiliser des bouts de code et ne pas répéter inutilement des lignes. Voyons comment faire avec notre simple \"Hello World\""
   ]
  },
  {
   "cell_type": "code",
   "execution_count": 11,
   "id": "fcea190c-acf8-4baf-ae54-034bf917c683",
   "metadata": {},
   "outputs": [
    {
     "name": "stdout",
     "output_type": "stream",
     "text": [
      "Hello Word\n",
      "Hello Word\n"
     ]
    }
   ],
   "source": [
    "def h\n",
    "    puts \"Hello Word\"\n",
    "end\n",
    "\n",
    "h\n",
    "h()"
   ]
  },
  {
   "cell_type": "markdown",
   "id": "081fb4cd-8a53-4c0a-ae8c-5dc6e7aa6f42",
   "metadata": {},
   "source": [
    "Le mot clé `def` permet de commencer la définition d'une méthode et doit ce finir par `end`. Notre nouvelle méthode s'appelle `h`. Qu'es-ce que les parenthèses vides? C'est pour signaler des paramètres. En l'occurrence la méthode d'attend pas de paramètres et sont donc ignorés. Nous allons revoir ce code pour dire \"bonjour\" à une personne en particulier et donc ajouter un paramètre."
   ]
  },
  {
   "cell_type": "code",
   "execution_count": 12,
   "id": "39b5c984-7a07-4ffa-b088-8bb2656bbd95",
   "metadata": {},
   "outputs": [
    {
     "name": "stdout",
     "output_type": "stream",
     "text": [
      "Hello Trivial!\n"
     ]
    }
   ],
   "source": [
    "def h(name)\n",
    "    puts \"Hello #{name}!\"\n",
    "end\n",
    "\n",
    "h(\"Trivial\")"
   ]
  },
  {
   "cell_type": "markdown",
   "id": "798b1f9d-81e5-461f-abb1-1a3adc4f3147",
   "metadata": {},
   "source": [
    "## Les chaînes de caractères\n",
    "\n",
    "Le truc un peu étrange dans cette exemple est ce `#{name}`. C'est un moyen que dispose le langage Ruby pour insérer quelque chose au sein d'une chaîne de caractère, le mot entre crochest transformé en chaîne de caractère."
   ]
  },
  {
   "cell_type": "markdown",
   "id": "1bbe3a2f-7b26-4b11-9dfe-0fc7401c8b35",
   "metadata": {},
   "source": [
    "## En avant les classes et objets\n",
    "\n",
    "Ruby est un langage \"orienté-objet\", c'est à dire de la POO (Programmation orientée objet). [Quelques principes et à quoi sert la POO](https://www.lebigdata.fr/programmation-orientee-objet). Au delà du paradigme nous allons introduire la notion de classe et objet dans l'utilisation de nos méthodes."
   ]
  },
  {
   "cell_type": "code",
   "execution_count": 13,
   "id": "a2f8f108-6042-4d08-8081-eb9b19319d59",
   "metadata": {},
   "outputs": [
    {
     "data": {
      "text/plain": [
       ":say_bye"
      ]
     },
     "execution_count": 13,
     "metadata": {},
     "output_type": "execute_result"
    }
   ],
   "source": [
    "class Saluer\n",
    "    def initialize(name = \"World\")\n",
    "        @name = name\n",
    "    end\n",
    "    def say_hi\n",
    "        puts \"Hi #{@name}!\"\n",
    "    end\n",
    "    def say_bye\n",
    "        puts \"Bye #{@name}, revien plus tard.\"\n",
    "    end\n",
    "end"
   ]
  },
  {
   "cell_type": "markdown",
   "id": "36bb1649-43dc-4a05-9a19-ac72083c7379",
   "metadata": {},
   "source": [
    "La nouveauté est l'utilisation du mot-clé `class`. Son rôle est de créer une classe qui se nomme `Saluer`, noter que les classes commencent par une majuscule. Celle-ci contient plusieurs méthodes dont on va instancier la variable `@name` qui est défini pour toutes les méthodes de la classe."
   ]
  }
 ],
 "metadata": {
  "kernelspec": {
   "display_name": "Ruby 3.0.6",
   "language": "ruby",
   "name": "ruby"
  },
  "language_info": {
   "file_extension": ".rb",
   "mimetype": "application/x-ruby",
   "name": "ruby",
   "version": "3.0.6"
  }
 },
 "nbformat": 4,
 "nbformat_minor": 5
}
