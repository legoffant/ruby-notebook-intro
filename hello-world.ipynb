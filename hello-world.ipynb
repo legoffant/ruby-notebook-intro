{
 "cells": [
  {
   "cell_type": "code",
   "execution_count": 1,
   "id": "4c12fc7d-3881-42dd-8693-dffd0dfb5f28",
   "metadata": {},
   "outputs": [
    {
     "name": "stdout",
     "output_type": "stream",
     "text": [
      "hello world\n"
     ]
    }
   ],
   "source": [
    "puts \"hello world\""
   ]
  },
  {
   "cell_type": "code",
   "execution_count": null,
   "id": "e423086a-15be-441b-844c-254dc9182b72",
   "metadata": {},
   "outputs": [],
   "source": []
  }
 ],
 "metadata": {
  "kernelspec": {
   "display_name": "Ruby 3.0.6",
   "language": "ruby",
   "name": "ruby"
  },
  "language_info": {
   "file_extension": ".rb",
   "mimetype": "application/x-ruby",
   "name": "ruby",
   "version": "3.0.6"
  }
 },
 "nbformat": 4,
 "nbformat_minor": 5
}
